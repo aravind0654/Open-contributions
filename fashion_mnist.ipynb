{
  "nbformat": 4,
  "nbformat_minor": 0,
  "metadata": {
    "colab": {
      "name": "fashion_mnist.ipynb",
      "provenance": [],
      "authorship_tag": "ABX9TyNwBOM8ti3x3IwQzYVs+PF9",
      "include_colab_link": true
    },
    "kernelspec": {
      "name": "python3",
      "display_name": "Python 3"
    }
  },
  "cells": [
    {
      "cell_type": "markdown",
      "metadata": {
        "id": "view-in-github",
        "colab_type": "text"
      },
      "source": [
        "<a href=\"https://colab.research.google.com/github/aravind0654/Open-contributions/blob/master/fashion_mnist.ipynb\" target=\"_parent\"><img src=\"https://colab.research.google.com/assets/colab-badge.svg\" alt=\"Open In Colab\"/></a>"
      ]
    },
    {
      "cell_type": "code",
      "metadata": {
        "id": "fEbTQeChqb7o",
        "colab_type": "code",
        "colab": {
          "base_uri": "https://localhost:8080/",
          "height": 35
        },
        "outputId": "fb826d5e-5332-4e82-bf55-e82401e779c1"
      },
      "source": [
        "import tensorflow as tf\n",
        "print(tf.__version__)\n",
        "from tensorflow import keras"
      ],
      "execution_count": null,
      "outputs": [
        {
          "output_type": "stream",
          "text": [
            "2.2.0\n"
          ],
          "name": "stdout"
        }
      ]
    },
    {
      "cell_type": "code",
      "metadata": {
        "id": "Zyp9PC79q2wS",
        "colab_type": "code",
        "colab": {}
      },
      "source": [
        "fashion_mnist = keras.datasets.fashion_mnist"
      ],
      "execution_count": null,
      "outputs": []
    },
    {
      "cell_type": "code",
      "metadata": {
        "id": "NUpjK_mTrHpX",
        "colab_type": "code",
        "colab": {}
      },
      "source": [
        "(train_images, train_labels), (test_images, test_labels) = fashion_mnist.load_data()"
      ],
      "execution_count": null,
      "outputs": []
    },
    {
      "cell_type": "code",
      "metadata": {
        "id": "jVkxlw9Mr1JO",
        "colab_type": "code",
        "colab": {
          "base_uri": "https://localhost:8080/",
          "height": 1000
        },
        "outputId": "e2e5c3ab-adb8-4942-8f64-74287af10576"
      },
      "source": [
        "import numpy as np\n",
        "np.set_printoptions(linewidth = 200)\n",
        "import matplotlib.pyplot as plt\n",
        "plt.imshow(train_images[105])\n",
        "print(train_labels[105])\n",
        "print(train_images[105]) "
      ],
      "execution_count": null,
      "outputs": [
        {
          "output_type": "stream",
          "text": [
            "8\n",
            "[[0.         0.         0.         0.         0.         0.         0.         0.         0.         0.         0.         0.         0.         0.         0.         0.         0.\n",
            "  0.         0.         0.         0.         0.         0.         0.         0.         0.         0.         0.        ]\n",
            " [0.         0.         0.         0.         0.         0.         0.         0.         0.         0.         0.         0.         0.         0.         0.         0.         0.\n",
            "  0.         0.         0.         0.         0.         0.         0.         0.         0.         0.         0.        ]\n",
            " [0.         0.         0.         0.         0.         0.         0.         0.         0.         0.         0.         0.         0.         0.         0.         0.         0.\n",
            "  0.         0.         0.         0.         0.         0.         0.         0.         0.         0.         0.        ]\n",
            " [0.         0.         0.         0.         0.         0.         0.         0.         0.         0.         0.         0.         0.         0.         0.         0.         0.\n",
            "  0.         0.         0.         0.         0.         0.         0.         0.         0.         0.         0.        ]\n",
            " [0.         0.         0.         0.         0.         0.         0.         0.         0.         0.         0.         0.         0.         0.         0.         0.         0.\n",
            "  0.         0.         0.         0.         0.         0.         0.         0.         0.         0.         0.        ]\n",
            " [0.01176471 0.         0.         0.         0.         0.15686275 0.59215686 0.51764706 0.63529412 0.60784314 0.58039216 0.6        0.63137255 0.61568627 0.63921569 0.65490196 0.67058824\n",
            "  0.70980392 0.73333333 0.50196078 0.84705882 0.19607843 0.         0.         0.         0.00784314 0.         0.        ]\n",
            " [0.         0.         0.         0.         0.65882353 0.75294118 0.81568627 0.43529412 0.52941176 0.95294118 0.83921569 0.85098039 0.91764706 0.90588235 0.89803922 0.91372549 0.83921569\n",
            "  0.94901961 0.76862745 0.23921569 0.78823529 0.65882353 0.6745098  0.14509804 0.         0.         0.00784314 0.        ]\n",
            " [0.         0.03137255 0.         0.30196078 0.84313725 0.65098039 0.80784314 0.49803922 0.83921569 0.9254902  0.95686275 0.90196078 0.87058824 0.84313725 0.8627451  0.90196078 0.83921569\n",
            "  0.78039216 0.84705882 0.93333333 0.88627451 0.70196078 0.67058824 0.67058824 0.39215686 0.03137255 0.         0.00784314]\n",
            " [0.01568627 0.         0.03529412 0.8627451  0.75686275 0.7372549  0.54901961 0.4745098  0.54509804 0.53333333 0.52941176 0.57254902 0.50588235 0.41960784 0.4627451  0.49803922 0.49019608\n",
            "  0.45882353 0.42352941 0.39215686 0.39607843 0.56078431 0.76470588 0.74117647 0.46666667 0.40784314 0.06666667 0.        ]\n",
            " [0.         0.         0.72941176 0.87843137 0.76470588 0.81568627 0.60392157 0.50196078 0.53333333 0.52941176 0.50980392 0.51764706 0.53333333 0.53333333 0.54117647 0.53333333 0.5372549\n",
            "  0.56078431 0.60392157 0.68627451 0.7372549  0.72941176 0.84313725 0.63921569 0.7372549  0.45882353 0.3372549  0.        ]\n",
            " [0.         0.4627451  0.75686275 0.59607843 0.81960784 0.77647059 0.82745098 0.82745098 0.85882353 0.8627451  0.87843137 0.88627451 0.88627451 0.90980392 0.90980392 0.91764706 0.9254902\n",
            "  0.91764706 0.89019608 0.84313725 0.83921569 0.79607843 0.81568627 0.69803922 0.90980392 0.75686275 0.42745098 0.16862745]\n",
            " [0.         1.         0.09019608 0.56862745 0.82352941 0.71764706 0.89803922 0.83137255 0.83921569 0.83529412 0.83529412 0.82745098 0.80392157 0.83529412 0.84313725 0.84313725 0.84313725\n",
            "  0.85098039 0.87058824 0.83137255 0.80784314 0.84313725 0.70196078 0.73333333 0.77647059 0.24313725 0.13333333 0.46666667]\n",
            " [0.19215686 1.         0.         0.88627451 0.76078431 0.73333333 0.90588235 0.77254902 0.83529412 0.84313725 0.81960784 0.82352941 0.84313725 0.85098039 0.84705882 0.84705882 0.84705882\n",
            "  0.84313725 0.84705882 0.81176471 0.81176471 0.90588235 0.65490196 0.64313725 0.27058824 0.         0.07843137 0.58431373]\n",
            " [0.51764706 0.84705882 0.         0.90196078 0.79215686 0.72156863 0.9254902  0.81568627 0.81176471 0.8627451  0.8627451  0.87058824 0.87058824 0.8745098  0.87843137 0.8745098  0.87058824\n",
            "  0.87058824 0.85882353 0.81960784 0.85490196 0.93333333 0.69411765 0.69019608 0.34901961 0.         0.10588235 0.49803922]\n",
            " [0.56862745 0.63529412 0.         0.90588235 0.81568627 0.78823529 0.98039216 0.81960784 0.84313725 0.87058824 0.86666667 0.86666667 0.86666667 0.87843137 0.8745098  0.87058824 0.8627451\n",
            "  0.86666667 0.87843137 0.82745098 0.85490196 0.88627451 0.73333333 0.78039216 0.15294118 0.         0.31764706 0.39215686]\n",
            " [0.45490196 0.58823529 0.         0.76470588 0.8627451  0.85098039 0.76470588 0.63137255 0.89803922 0.85882353 0.8627451  0.88235294 0.87058824 0.87058824 0.8745098  0.8745098  0.8745098\n",
            "  0.87058824 0.88627451 0.83137255 0.8627451  0.90196078 0.76862745 0.78039216 0.06666667 0.         0.60392157 0.03921569]\n",
            " [0.19607843 0.70588235 0.         0.49019608 0.89803922 0.84313725 0.85490196 0.82352941 0.94901961 0.91764706 0.87843137 0.8745098  0.8745098  0.87843137 0.87843137 0.87843137 0.88235294\n",
            "  0.8745098  0.87843137 0.83137255 0.8627451  0.89803922 0.78823529 0.73333333 0.         0.31372549 0.34509804 0.        ]\n",
            " [0.         0.66666667 0.32156863 0.12941176 0.91372549 0.82745098 0.94509804 0.88235294 0.77254902 0.88235294 0.96470588 0.90588235 0.8745098  0.87058824 0.87058824 0.86666667 0.8627451\n",
            "  0.85882353 0.86666667 0.81960784 0.85882353 0.88627451 0.82352941 0.61568627 0.50196078 0.39607843 0.         0.01568627]\n",
            " [0.         0.         1.         0.78039216 0.76862745 0.80784314 0.96078431 1.         1.         0.81960784 0.87058824 0.95294118 0.94509804 0.8745098  0.86666667 0.85098039 0.82745098\n",
            "  0.82352941 0.81960784 0.79215686 0.83137255 0.8627451  0.83921569 0.58823529 0.10196078 0.         0.         0.        ]\n",
            " [0.02352941 0.         0.10588235 0.69411765 0.81568627 0.76078431 0.79607843 0.59607843 0.72941176 0.9254902  0.74117647 0.80392157 0.82352941 0.81568627 0.79607843 0.76862745 0.80784314\n",
            "  0.78431373 0.78039216 0.78039216 0.81176471 0.82745098 0.90588235 0.39607843 0.         0.02745098 0.         0.        ]\n",
            " [0.         0.01176471 0.         0.07843137 0.83921569 0.81960784 0.77647059 0.62745098 0.69803922 0.77647059 0.81568627 0.82352941 0.77254902 0.8        0.96862745 1.         0.81960784\n",
            "  0.83529412 0.83529412 0.80784314 0.79607843 0.78823529 0.6745098  0.0745098  0.         0.01568627 0.         0.        ]\n",
            " [0.         0.00392157 0.         0.         0.51764706 0.80784314 0.85098039 0.98431373 0.91764706 0.94117647 0.89803922 0.95294118 0.91764706 0.82352941 0.00392157 0.02352941 0.03137255\n",
            "  0.06666667 0.06666667 0.05490196 0.04705882 0.05490196 0.         0.         0.         0.         0.         0.        ]\n",
            " [0.         0.         0.00392157 0.         0.         0.05098039 0.18431373 0.22352941 0.23529412 0.29019608 0.31372549 0.34509804 0.34117647 0.15686275 0.         0.         0.\n",
            "  0.         0.         0.         0.         0.         0.         0.00392157 0.         0.         0.         0.        ]\n",
            " [0.         0.         0.         0.         0.         0.         0.         0.         0.         0.         0.         0.         0.         0.         0.         0.         0.\n",
            "  0.         0.         0.         0.         0.         0.         0.         0.         0.         0.         0.        ]\n",
            " [0.         0.         0.         0.         0.         0.         0.         0.         0.         0.         0.         0.         0.         0.         0.         0.         0.\n",
            "  0.         0.         0.         0.         0.         0.         0.         0.         0.         0.         0.        ]\n",
            " [0.         0.         0.         0.         0.         0.         0.         0.         0.         0.         0.         0.         0.         0.         0.         0.         0.\n",
            "  0.         0.         0.         0.         0.         0.         0.         0.         0.         0.         0.        ]\n",
            " [0.         0.         0.         0.         0.         0.         0.         0.         0.         0.         0.         0.         0.         0.         0.         0.         0.\n",
            "  0.         0.         0.         0.         0.         0.         0.         0.         0.         0.         0.        ]\n",
            " [0.         0.         0.         0.         0.         0.         0.         0.         0.         0.         0.         0.         0.         0.         0.         0.         0.\n",
            "  0.         0.         0.         0.         0.         0.         0.         0.         0.         0.         0.        ]]\n"
          ],
          "name": "stdout"
        },
        {
          "output_type": "display_data",
          "data": {
            "image/png": "[encoded data removed]",
            "text/plain": [
              "<Figure size 432x288 with 1 Axes>"
            ]
          },
          "metadata": {
            "tags": [],
            "needs_background": "light"
          }
        }
      ]
    },
    {
      "cell_type": "code",
      "metadata": {
        "id": "tSk8Jv_Hv48W",
        "colab_type": "code",
        "colab": {}
      },
      "source": [
        "train_images = train_images/255.0\n",
        "test_images = test_images/255.0"
      ],
      "execution_count": null,
      "outputs": []
    },
    {
      "cell_type": "code",
      "metadata": {
        "id": "yaEcgKXowOH6",
        "colab_type": "code",
        "colab": {}
      },
      "source": [
        "model = tf.keras.models.Sequential([tf.keras.layers.Flatten(),\n",
        "                                    tf.keras.layers.Dense(units = 128, activation= tf.nn.relu),\n",
        "                                    tf.keras.layers.Dense(10 , activation= tf.nn.softmax)])"
      ],
      "execution_count": null,
      "outputs": []
    },
    {
      "cell_type": "code",
      "metadata": {
        "id": "kUQrfDkGxvse",
        "colab_type": "code",
        "colab": {}
      },
      "source": [
        "model.compile(optimizer= tf.optimizers.Adam(),\n",
        "              loss = \"sparse_categorical_crossentropy\",\n",
        "              metrics = \"accuracy\")"
      ],
      "execution_count": null,
      "outputs": []
    },
    {
      "cell_type": "code",
      "metadata": {
        "id": "26gXC7YezF_J",
        "colab_type": "code",
        "colab": {
          "base_uri": "https://localhost:8080/",
          "height": 243
        },
        "outputId": "99e990bc-8fbb-4b8e-df1b-c006b129d5be"
      },
      "source": [
        "model.fit(train_images, train_labels, epochs= 6)"
      ],
      "execution_count": null,
      "outputs": [
        {
          "output_type": "stream",
          "text": [
            "Epoch 1/6\n",
            "1875/1875 [==============================] - 4s 2ms/step - loss: 0.3968 - accuracy: 0.8605\n",
            "Epoch 2/6\n",
            "1875/1875 [==============================] - 4s 2ms/step - loss: 0.3930 - accuracy: 0.8612\n",
            "Epoch 3/6\n",
            "1875/1875 [==============================] - 4s 2ms/step - loss: 0.3890 - accuracy: 0.8630\n",
            "Epoch 4/6\n",
            "1875/1875 [==============================] - 4s 2ms/step - loss: 0.3852 - accuracy: 0.8636\n",
            "Epoch 5/6\n",
            "1875/1875 [==============================] - 4s 2ms/step - loss: 0.3821 - accuracy: 0.8645\n",
            "Epoch 6/6\n",
            "1875/1875 [==============================] - 4s 2ms/step - loss: 0.3784 - accuracy: 0.8662\n"
          ],
          "name": "stdout"
        },
        {
          "output_type": "execute_result",
          "data": {
            "text/plain": [
              "<tensorflow.python.keras.callbacks.History at 0x7f1ad6c28a90>"
            ]
          },
          "metadata": {
            "tags": []
          },
          "execution_count": 27
        }
      ]
    },
    {
      "cell_type": "code",
      "metadata": {
        "id": "Tk9Ip2ZRzTp0",
        "colab_type": "code",
        "colab": {
          "base_uri": "https://localhost:8080/",
          "height": 52
        },
        "outputId": "29a3f2aa-1a2d-4f3a-af6a-e649f99e7eb5"
      },
      "source": [
        "model.evaluate(test_images, test_labels)"
      ],
      "execution_count": null,
      "outputs": [
        {
          "output_type": "stream",
          "text": [
            "313/313 [==============================] - 0s 1ms/step - loss: 0.4182 - accuracy: 0.8499\n"
          ],
          "name": "stdout"
        },
        {
          "output_type": "execute_result",
          "data": {
            "text/plain": [
              "[0.41815125942230225, 0.8499000072479248]"
            ]
          },
          "metadata": {
            "tags": []
          },
          "execution_count": 28
        }
      ]
    },
    {
      "cell_type": "code",
      "metadata": {
        "id": "jzDitY3M1Rnb",
        "colab_type": "code",
        "colab": {}
      },
      "source": [
        ""
      ],
      "execution_count": null,
      "outputs": []
    }
  ]
}